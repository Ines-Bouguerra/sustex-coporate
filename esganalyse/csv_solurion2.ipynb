{
 "cells": [
  {
   "cell_type": "code",
   "execution_count": 1,
   "metadata": {},
   "outputs": [
    {
     "name": "stdout",
     "output_type": "stream",
     "text": [
      "               Date                                    Description  \\\n",
      "0  28 February 2022      Unaudited Group Profit or Loss - 6 months   \n",
      "1    31 August 2021       Audited Group Profit or Loss - 12 months   \n",
      "2  28 February 2022      Unaudited Group Profit or Loss - 6 months   \n",
      "3  28 February 2022  Unaudited Group Financial Position - 6 months   \n",
      "4    31 August 2021   Audited Group Financial Position - 12 months   \n",
      "5  28 February 2022  Unaudited Group Financial Position - 6 months   \n",
      "\n",
      "   Governance Score  Environmental Score  Social Score  ESG Score  \n",
      "0          0.790198                 0.75          0.65   0.730066  \n",
      "1          0.758667                 0.75          0.65   0.719556  \n",
      "2          0.540739                 0.75          0.65   0.646913  \n",
      "3          1.000000                 0.75          0.65   0.800000  \n",
      "4          0.999673                 0.75          0.65   0.799891  \n",
      "5          1.000000                 0.75          0.65   0.800000  \n"
     ]
    }
   ],
   "source": [
    "import pandas as pd\n",
    "\n",
    "# Step 1: Load the data\n",
    "data = {\n",
    "    'Date': ['28 February 2022', '31 August 2021', '28 February 2022', '28 February 2022', '31 August 2021', '28 February 2022'],\n",
    "    'Description': [\n",
    "        'Unaudited Group Profit or Loss - 6 months', 'Audited Group Profit or Loss - 12 months',\n",
    "        'Unaudited Group Profit or Loss - 6 months', 'Unaudited Group Financial Position - 6 months',\n",
    "        'Audited Group Financial Position - 12 months', 'Unaudited Group Financial Position - 6 months'\n",
    "    ],\n",
    "    'Revenue': [285826.0, 575115.0, 224296.0, None, None, None],\n",
    "    'Cost of Sales': [-198768.0, -383357.0, -134053.0, None, None, None],\n",
    "    'Gross Profit': [87058.0, 191758.0, 90243.0, None, None, None],\n",
    "    'Operating Profit': [19074.0, 13856.0, 10696.0, None, None, None],\n",
    "    'Profit Before Taxation': [20619.0, 17587.0, 13206.0, None, None, None],\n",
    "    'Profit After Taxation': [15658.0, 3350.0, 10050.0, None, None, None],\n",
    "    'Total Assets': [None, None, None, 999596.0, 999269.0, 999596.0]\n",
    "}\n",
    "\n",
    "df = pd.DataFrame(data)\n",
    "\n",
    "# Step 2: Calculate Governance Score\n",
    "# Governance score is simplified as an average of normalized profitability and asset stability\n",
    "\n",
    "# Normalizing values to a scale of 0 to 1\n",
    "df['Revenue'] = df['Revenue'] / df['Revenue'].max()\n",
    "df['Gross Profit'] = df['Gross Profit'] / df['Gross Profit'].max()\n",
    "df['Operating Profit'] = df['Operating Profit'] / df['Operating Profit'].max()\n",
    "df['Profit Before Taxation'] = df['Profit Before Taxation'] / df['Profit Before Taxation'].max()\n",
    "df['Profit After Taxation'] = df['Profit After Taxation'] / df['Profit After Taxation'].max()\n",
    "df['Total Assets'] = df['Total Assets'] / df['Total Assets'].max()\n",
    "\n",
    "# Governance score is an average of these normalized values\n",
    "df['Governance Score'] = df[['Revenue', 'Gross Profit', 'Operating Profit', 'Profit Before Taxation', 'Profit After Taxation', 'Total Assets']].mean(axis=1)\n",
    "\n",
    "# Step 3: Placeholder for Environmental and Social Data\n",
    "# For now, we'll assume hypothetical scores for environmental and social aspects\n",
    "df['Environmental Score'] = 0.75  # Hypothetical static value\n",
    "df['Social Score'] = 0.65  # Hypothetical static value\n",
    "\n",
    "# Step 4: Calculate Overall ESG Score\n",
    "# ESG Score is the average of the three scores\n",
    "df['ESG Score'] = df[['Governance Score', 'Environmental Score', 'Social Score']].mean(axis=1)\n",
    "\n",
    "# Filter out rows with NaN values in key columns used for governance score calculation\n",
    "df_esg = df.dropna(subset=['Governance Score'])\n",
    "\n",
    "# Display the results\n",
    "print(df_esg[['Date', 'Description', 'Governance Score', 'Environmental Score', 'Social Score', 'ESG Score']])\n"
   ]
  }
 ],
 "metadata": {
  "kernelspec": {
   "display_name": "myenv",
   "language": "python",
   "name": "python3"
  },
  "language_info": {
   "codemirror_mode": {
    "name": "ipython",
    "version": 3
   },
   "file_extension": ".py",
   "mimetype": "text/x-python",
   "name": "python",
   "nbconvert_exporter": "python",
   "pygments_lexer": "ipython3",
   "version": "3.10.9"
  }
 },
 "nbformat": 4,
 "nbformat_minor": 2
}
