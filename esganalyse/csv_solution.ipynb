{
 "cells": [
  {
   "cell_type": "code",
   "execution_count": 6,
   "metadata": {},
   "outputs": [],
   "source": [
    "import pandas as pd\n",
    "from transformers import AutoModelForSequenceClassification, AutoTokenizer, pipeline "
   ]
  },
  {
   "cell_type": "code",
   "execution_count": 2,
   "metadata": {},
   "outputs": [
    {
     "data": {
      "text/html": [
       "<div>\n",
       "<style scoped>\n",
       "    .dataframe tbody tr th:only-of-type {\n",
       "        vertical-align: middle;\n",
       "    }\n",
       "\n",
       "    .dataframe tbody tr th {\n",
       "        vertical-align: top;\n",
       "    }\n",
       "\n",
       "    .dataframe thead th {\n",
       "        text-align: right;\n",
       "    }\n",
       "</style>\n",
       "<table border=\"1\" class=\"dataframe\">\n",
       "  <thead>\n",
       "    <tr style=\"text-align: right;\">\n",
       "      <th></th>\n",
       "      <th>Category</th>\n",
       "      <th>Description</th>\n",
       "      <th>2022 Achievements</th>\n",
       "    </tr>\n",
       "  </thead>\n",
       "  <tbody>\n",
       "    <tr>\n",
       "      <th>0</th>\n",
       "      <td>Integrated Management System Audit</td>\n",
       "      <td>Audit of integrated QSE management system for ...</td>\n",
       "      <td>Sites in East, Centre, and Headquarters audited.</td>\n",
       "    </tr>\n",
       "    <tr>\n",
       "      <th>1</th>\n",
       "      <td>ECOVADIS Evaluation</td>\n",
       "      <td>Received a BRONZE medal for CSR performance wi...</td>\n",
       "      <td>Score improved by 5 points from last year, pla...</td>\n",
       "    </tr>\n",
       "    <tr>\n",
       "      <th>2</th>\n",
       "      <td>Ethics and Responsible Purchasing</td>\n",
       "      <td>Project KAIZEN started to formalize purchasing...</td>\n",
       "      <td>56 actions planned, 43 completed with more tha...</td>\n",
       "    </tr>\n",
       "    <tr>\n",
       "      <th>3</th>\n",
       "      <td>Employee Policy and Ethics</td>\n",
       "      <td>The ethical pole ensures adoption and respect ...</td>\n",
       "      <td>Code of ethics and ethical purchasing charter ...</td>\n",
       "    </tr>\n",
       "    <tr>\n",
       "      <th>4</th>\n",
       "      <td>Ethical Committee and Anti-Corruption Policy</td>\n",
       "      <td>Ethical committee assesses ethical incidents a...</td>\n",
       "      <td>Committee in place since 2020 under general ma...</td>\n",
       "    </tr>\n",
       "    <tr>\n",
       "      <th>5</th>\n",
       "      <td>Work Conditions and Ethics</td>\n",
       "      <td>PALMCI provides a safe, enjoyable, and modern ...</td>\n",
       "      <td>Efforts to develop individual capabilities and...</td>\n",
       "    </tr>\n",
       "    <tr>\n",
       "      <th>6</th>\n",
       "      <td>Employee Demographics</td>\n",
       "      <td>Total employees: 9085, with 90% on permanent c...</td>\n",
       "      <td>Permanent staff increased by 36 compared to 2021.</td>\n",
       "    </tr>\n",
       "    <tr>\n",
       "      <th>7</th>\n",
       "      <td>Employee Departures</td>\n",
       "      <td>Total departures in 2022: 862, with resignatio...</td>\n",
       "      <td>Increase in both resignations and dismissals.</td>\n",
       "    </tr>\n",
       "    <tr>\n",
       "      <th>8</th>\n",
       "      <td>Remuneration Policy</td>\n",
       "      <td>Remuneration designed to recognize individual ...</td>\n",
       "      <td>Variable remuneration linked to individual and...</td>\n",
       "    </tr>\n",
       "    <tr>\n",
       "      <th>9</th>\n",
       "      <td>Work Time Organization</td>\n",
       "      <td>Work organized according to legal conventions,...</td>\n",
       "      <td>Increase in total hours worked by 6.3% from th...</td>\n",
       "    </tr>\n",
       "    <tr>\n",
       "      <th>10</th>\n",
       "      <td>Health and Safety at Work</td>\n",
       "      <td>Safety at work practices ensured across all op...</td>\n",
       "      <td>15 serious work accidents reported with a freq...</td>\n",
       "    </tr>\n",
       "    <tr>\n",
       "      <th>11</th>\n",
       "      <td>Professional Training and Development</td>\n",
       "      <td>Over 30% of workers received training in 2022,...</td>\n",
       "      <td>Significant increase in the number of training...</td>\n",
       "    </tr>\n",
       "    <tr>\n",
       "      <th>12</th>\n",
       "      <td>Union Freedom and Collective Negotiation</td>\n",
       "      <td>Meetings with employee representatives conduct...</td>\n",
       "      <td>Dialogue with union representatives has been m...</td>\n",
       "    </tr>\n",
       "    <tr>\n",
       "      <th>13</th>\n",
       "      <td>Employee Living Environment</td>\n",
       "      <td>Projects realized in 2022 include housing cons...</td>\n",
       "      <td>Total budget spent on employee living projects...</td>\n",
       "    </tr>\n",
       "  </tbody>\n",
       "</table>\n",
       "</div>"
      ],
      "text/plain": [
       "                                        Category  \\\n",
       "0             Integrated Management System Audit   \n",
       "1                            ECOVADIS Evaluation   \n",
       "2              Ethics and Responsible Purchasing   \n",
       "3                     Employee Policy and Ethics   \n",
       "4   Ethical Committee and Anti-Corruption Policy   \n",
       "5                     Work Conditions and Ethics   \n",
       "6                          Employee Demographics   \n",
       "7                            Employee Departures   \n",
       "8                            Remuneration Policy   \n",
       "9                         Work Time Organization   \n",
       "10                     Health and Safety at Work   \n",
       "11         Professional Training and Development   \n",
       "12      Union Freedom and Collective Negotiation   \n",
       "13                   Employee Living Environment   \n",
       "\n",
       "                                          Description  \\\n",
       "0   Audit of integrated QSE management system for ...   \n",
       "1   Received a BRONZE medal for CSR performance wi...   \n",
       "2   Project KAIZEN started to formalize purchasing...   \n",
       "3   The ethical pole ensures adoption and respect ...   \n",
       "4   Ethical committee assesses ethical incidents a...   \n",
       "5   PALMCI provides a safe, enjoyable, and modern ...   \n",
       "6   Total employees: 9085, with 90% on permanent c...   \n",
       "7   Total departures in 2022: 862, with resignatio...   \n",
       "8   Remuneration designed to recognize individual ...   \n",
       "9   Work organized according to legal conventions,...   \n",
       "10  Safety at work practices ensured across all op...   \n",
       "11  Over 30% of workers received training in 2022,...   \n",
       "12  Meetings with employee representatives conduct...   \n",
       "13  Projects realized in 2022 include housing cons...   \n",
       "\n",
       "                                    2022 Achievements  \n",
       "0    Sites in East, Centre, and Headquarters audited.  \n",
       "1   Score improved by 5 points from last year, pla...  \n",
       "2   56 actions planned, 43 completed with more tha...  \n",
       "3   Code of ethics and ethical purchasing charter ...  \n",
       "4   Committee in place since 2020 under general ma...  \n",
       "5   Efforts to develop individual capabilities and...  \n",
       "6   Permanent staff increased by 36 compared to 2021.  \n",
       "7       Increase in both resignations and dismissals.  \n",
       "8   Variable remuneration linked to individual and...  \n",
       "9   Increase in total hours worked by 6.3% from th...  \n",
       "10  15 serious work accidents reported with a freq...  \n",
       "11  Significant increase in the number of training...  \n",
       "12  Dialogue with union representatives has been m...  \n",
       "13  Total budget spent on employee living projects...  "
      ]
     },
     "execution_count": 2,
     "metadata": {},
     "output_type": "execute_result"
    }
   ],
   "source": [
    "\n",
    "file_path=\"D:\\IA\\sustex-coporate\\Sustainability_Data.csv\"\n",
    "df = pd.read_csv(file_path,delimiter=';')\n",
    "df"
   ]
  },
  {
   "cell_type": "code",
   "execution_count": 3,
   "metadata": {},
   "outputs": [
    {
     "data": {
      "application/vnd.jupyter.widget-view+json": {
       "model_id": "9276e5cfaf09432485289d76b5bea757",
       "version_major": 2,
       "version_minor": 0
      },
      "text/plain": [
       "tokenizer_config.json:   0%|          | 0.00/376 [00:00<?, ?B/s]"
      ]
     },
     "metadata": {},
     "output_type": "display_data"
    },
    {
     "name": "stderr",
     "output_type": "stream",
     "text": [
      "c:\\Users\\a.bouhrira\\AppData\\Local\\Programs\\Python\\Python310\\lib\\site-packages\\huggingface_hub\\file_download.py:157: UserWarning: `huggingface_hub` cache-system uses symlinks by default to efficiently store duplicated files but your machine does not support them in C:\\Users\\a.bouhrira\\.cache\\huggingface\\hub\\models--nbroad--ESG-BERT. Caching files will still work but in a degraded version that might require more space on your disk. This warning can be disabled by setting the `HF_HUB_DISABLE_SYMLINKS_WARNING` environment variable. For more details, see https://huggingface.co/docs/huggingface_hub/how-to-cache#limitations.\n",
      "To support symlinks on Windows, you either need to activate Developer Mode or to run Python as an administrator. In order to see activate developer mode, see this article: https://docs.microsoft.com/en-us/windows/apps/get-started/enable-your-device-for-development\n",
      "  warnings.warn(message)\n"
     ]
    },
    {
     "data": {
      "application/vnd.jupyter.widget-view+json": {
       "model_id": "0fc1ffe3f13c40bd85154ccec7a19fe9",
       "version_major": 2,
       "version_minor": 0
      },
      "text/plain": [
       "vocab.txt:   0%|          | 0.00/232k [00:00<?, ?B/s]"
      ]
     },
     "metadata": {},
     "output_type": "display_data"
    },
    {
     "data": {
      "application/vnd.jupyter.widget-view+json": {
       "model_id": "b888cd13d2984f3795ae21749d7b5394",
       "version_major": 2,
       "version_minor": 0
      },
      "text/plain": [
       "tokenizer.json:   0%|          | 0.00/466k [00:00<?, ?B/s]"
      ]
     },
     "metadata": {},
     "output_type": "display_data"
    },
    {
     "data": {
      "application/vnd.jupyter.widget-view+json": {
       "model_id": "e96216cf12c144b7a22f1c53a6c07e34",
       "version_major": 2,
       "version_minor": 0
      },
      "text/plain": [
       "special_tokens_map.json:   0%|          | 0.00/112 [00:00<?, ?B/s]"
      ]
     },
     "metadata": {},
     "output_type": "display_data"
    }
   ],
   "source": [
    "pipe_esg= pipeline(\"text-classification\", model=\"nbroad/ESG-BERT\")\n"
   ]
  },
  {
   "cell_type": "code",
   "execution_count": 4,
   "metadata": {},
   "outputs": [
    {
     "data": {
      "text/plain": [
       "Index(['Category', 'Description', '2022 Achievements'], dtype='object')"
      ]
     },
     "execution_count": 4,
     "metadata": {},
     "output_type": "execute_result"
    }
   ],
   "source": [
    "df.columns"
   ]
  },
  {
   "cell_type": "code",
   "execution_count": 12,
   "metadata": {},
   "outputs": [
    {
     "data": {
      "text/plain": [
       "'Category'"
      ]
     },
     "execution_count": 12,
     "metadata": {},
     "output_type": "execute_result"
    }
   ],
   "source": [
    "df.columns[0]"
   ]
  },
  {
   "cell_type": "code",
   "execution_count": 7,
   "metadata": {},
   "outputs": [],
   "source": [
    "def get_model(name, task):\n",
    "    \"\"\"Function to declare a model class\"\"\"\n",
    "    try:\n",
    "        tokenizer = AutoTokenizer.from_pretrained(name)\n",
    "        model = AutoModelForSequenceClassification.from_pretrained(name)\n",
    "        pipe = pipeline(task, model=model, tokenizer=tokenizer)\n",
    "        return pipe\n",
    "    except Exception as e:\n",
    "        print(f\"An error occurred while loading the model or tokenizer: {e}\")\n",
    "        return None"
   ]
  },
  {
   "cell_type": "code",
   "execution_count": 8,
   "metadata": {},
   "outputs": [
    {
     "data": {
      "application/vnd.jupyter.widget-view+json": {
       "model_id": "93960b1272f44149abd366c67e3e638f",
       "version_major": 2,
       "version_minor": 0
      },
      "text/plain": [
       "tokenizer_config.json:   0%|          | 0.00/351 [00:00<?, ?B/s]"
      ]
     },
     "metadata": {},
     "output_type": "display_data"
    },
    {
     "name": "stderr",
     "output_type": "stream",
     "text": [
      "c:\\Users\\a.bouhrira\\AppData\\Local\\Programs\\Python\\Python310\\lib\\site-packages\\huggingface_hub\\file_download.py:157: UserWarning: `huggingface_hub` cache-system uses symlinks by default to efficiently store duplicated files but your machine does not support them in C:\\Users\\a.bouhrira\\.cache\\huggingface\\hub\\models--ESGBERT--EnvironmentalBERT-environmental. Caching files will still work but in a degraded version that might require more space on your disk. This warning can be disabled by setting the `HF_HUB_DISABLE_SYMLINKS_WARNING` environment variable. For more details, see https://huggingface.co/docs/huggingface_hub/how-to-cache#limitations.\n",
      "To support symlinks on Windows, you either need to activate Developer Mode or to run Python as an administrator. In order to see activate developer mode, see this article: https://docs.microsoft.com/en-us/windows/apps/get-started/enable-your-device-for-development\n",
      "  warnings.warn(message)\n"
     ]
    },
    {
     "data": {
      "application/vnd.jupyter.widget-view+json": {
       "model_id": "e0e82a23756e49b18f59e155b3a6af7d",
       "version_major": 2,
       "version_minor": 0
      },
      "text/plain": [
       "vocab.json:   0%|          | 0.00/798k [00:00<?, ?B/s]"
      ]
     },
     "metadata": {},
     "output_type": "display_data"
    },
    {
     "data": {
      "application/vnd.jupyter.widget-view+json": {
       "model_id": "2c2e136f313d4009af0908ee6fa932af",
       "version_major": 2,
       "version_minor": 0
      },
      "text/plain": [
       "merges.txt:   0%|          | 0.00/456k [00:00<?, ?B/s]"
      ]
     },
     "metadata": {},
     "output_type": "display_data"
    },
    {
     "data": {
      "application/vnd.jupyter.widget-view+json": {
       "model_id": "1268174c609f40a7b6de2cf5d3f05e95",
       "version_major": 2,
       "version_minor": 0
      },
      "text/plain": [
       "tokenizer.json:   0%|          | 0.00/2.11M [00:00<?, ?B/s]"
      ]
     },
     "metadata": {},
     "output_type": "display_data"
    },
    {
     "data": {
      "application/vnd.jupyter.widget-view+json": {
       "model_id": "74b3aadefc684e26a60219b147da9b1f",
       "version_major": 2,
       "version_minor": 0
      },
      "text/plain": [
       "special_tokens_map.json:   0%|          | 0.00/280 [00:00<?, ?B/s]"
      ]
     },
     "metadata": {},
     "output_type": "display_data"
    },
    {
     "data": {
      "application/vnd.jupyter.widget-view+json": {
       "model_id": "4b06b59ffe0c41e9bdab0aff857fcdbd",
       "version_major": 2,
       "version_minor": 0
      },
      "text/plain": [
       "config.json:   0%|          | 0.00/951 [00:00<?, ?B/s]"
      ]
     },
     "metadata": {},
     "output_type": "display_data"
    },
    {
     "data": {
      "application/vnd.jupyter.widget-view+json": {
       "model_id": "4bdb5a9ec2da4eeeb8d9f0756d5ab605",
       "version_major": 2,
       "version_minor": 0
      },
      "text/plain": [
       "pytorch_model.bin:   0%|          | 0.00/329M [00:00<?, ?B/s]"
      ]
     },
     "metadata": {},
     "output_type": "display_data"
    },
    {
     "data": {
      "application/vnd.jupyter.widget-view+json": {
       "model_id": "9eba8e6c0035408a839cc38d8651051e",
       "version_major": 2,
       "version_minor": 0
      },
      "text/plain": [
       "tokenizer_config.json:   0%|          | 0.00/351 [00:00<?, ?B/s]"
      ]
     },
     "metadata": {},
     "output_type": "display_data"
    },
    {
     "name": "stderr",
     "output_type": "stream",
     "text": [
      "c:\\Users\\a.bouhrira\\AppData\\Local\\Programs\\Python\\Python310\\lib\\site-packages\\huggingface_hub\\file_download.py:157: UserWarning: `huggingface_hub` cache-system uses symlinks by default to efficiently store duplicated files but your machine does not support them in C:\\Users\\a.bouhrira\\.cache\\huggingface\\hub\\models--ESGBERT--SocialBERT-social. Caching files will still work but in a degraded version that might require more space on your disk. This warning can be disabled by setting the `HF_HUB_DISABLE_SYMLINKS_WARNING` environment variable. For more details, see https://huggingface.co/docs/huggingface_hub/how-to-cache#limitations.\n",
      "To support symlinks on Windows, you either need to activate Developer Mode or to run Python as an administrator. In order to see activate developer mode, see this article: https://docs.microsoft.com/en-us/windows/apps/get-started/enable-your-device-for-development\n",
      "  warnings.warn(message)\n"
     ]
    },
    {
     "data": {
      "application/vnd.jupyter.widget-view+json": {
       "model_id": "fc421a00b7894540ae5c148418a2a3f7",
       "version_major": 2,
       "version_minor": 0
      },
      "text/plain": [
       "vocab.json:   0%|          | 0.00/798k [00:00<?, ?B/s]"
      ]
     },
     "metadata": {},
     "output_type": "display_data"
    },
    {
     "data": {
      "application/vnd.jupyter.widget-view+json": {
       "model_id": "1c45a519fa604c30b60499a70abbdca4",
       "version_major": 2,
       "version_minor": 0
      },
      "text/plain": [
       "merges.txt:   0%|          | 0.00/456k [00:00<?, ?B/s]"
      ]
     },
     "metadata": {},
     "output_type": "display_data"
    },
    {
     "data": {
      "application/vnd.jupyter.widget-view+json": {
       "model_id": "523ea2fea0fd4fe3b00b458da2617ef6",
       "version_major": 2,
       "version_minor": 0
      },
      "text/plain": [
       "tokenizer.json:   0%|          | 0.00/2.11M [00:00<?, ?B/s]"
      ]
     },
     "metadata": {},
     "output_type": "display_data"
    },
    {
     "data": {
      "application/vnd.jupyter.widget-view+json": {
       "model_id": "2fdd6a02ee234447a0ee0961f5b87399",
       "version_major": 2,
       "version_minor": 0
      },
      "text/plain": [
       "special_tokens_map.json:   0%|          | 0.00/280 [00:00<?, ?B/s]"
      ]
     },
     "metadata": {},
     "output_type": "display_data"
    },
    {
     "data": {
      "application/vnd.jupyter.widget-view+json": {
       "model_id": "2f45178cad824801b26c16eb1d8b4866",
       "version_major": 2,
       "version_minor": 0
      },
      "text/plain": [
       "config.json:   0%|          | 0.00/927 [00:00<?, ?B/s]"
      ]
     },
     "metadata": {},
     "output_type": "display_data"
    },
    {
     "data": {
      "application/vnd.jupyter.widget-view+json": {
       "model_id": "fab98fdacf614b8e9de928e989dd4ff3",
       "version_major": 2,
       "version_minor": 0
      },
      "text/plain": [
       "pytorch_model.bin:   0%|          | 0.00/329M [00:00<?, ?B/s]"
      ]
     },
     "metadata": {},
     "output_type": "display_data"
    },
    {
     "data": {
      "application/vnd.jupyter.widget-view+json": {
       "model_id": "8bad9103a05641cd86576ce61b9d4b93",
       "version_major": 2,
       "version_minor": 0
      },
      "text/plain": [
       "tokenizer_config.json:   0%|          | 0.00/351 [00:00<?, ?B/s]"
      ]
     },
     "metadata": {},
     "output_type": "display_data"
    },
    {
     "name": "stderr",
     "output_type": "stream",
     "text": [
      "c:\\Users\\a.bouhrira\\AppData\\Local\\Programs\\Python\\Python310\\lib\\site-packages\\huggingface_hub\\file_download.py:157: UserWarning: `huggingface_hub` cache-system uses symlinks by default to efficiently store duplicated files but your machine does not support them in C:\\Users\\a.bouhrira\\.cache\\huggingface\\hub\\models--ESGBERT--GovernanceBERT-governance. Caching files will still work but in a degraded version that might require more space on your disk. This warning can be disabled by setting the `HF_HUB_DISABLE_SYMLINKS_WARNING` environment variable. For more details, see https://huggingface.co/docs/huggingface_hub/how-to-cache#limitations.\n",
      "To support symlinks on Windows, you either need to activate Developer Mode or to run Python as an administrator. In order to see activate developer mode, see this article: https://docs.microsoft.com/en-us/windows/apps/get-started/enable-your-device-for-development\n",
      "  warnings.warn(message)\n"
     ]
    },
    {
     "data": {
      "application/vnd.jupyter.widget-view+json": {
       "model_id": "2e2077e2cb944f5785afe8a3420cab54",
       "version_major": 2,
       "version_minor": 0
      },
      "text/plain": [
       "vocab.json:   0%|          | 0.00/798k [00:00<?, ?B/s]"
      ]
     },
     "metadata": {},
     "output_type": "display_data"
    },
    {
     "data": {
      "application/vnd.jupyter.widget-view+json": {
       "model_id": "a2ae1491ed1542fdbe454871e4770d7e",
       "version_major": 2,
       "version_minor": 0
      },
      "text/plain": [
       "merges.txt:   0%|          | 0.00/456k [00:00<?, ?B/s]"
      ]
     },
     "metadata": {},
     "output_type": "display_data"
    },
    {
     "data": {
      "application/vnd.jupyter.widget-view+json": {
       "model_id": "b825340e9eb4417e8e53659815876444",
       "version_major": 2,
       "version_minor": 0
      },
      "text/plain": [
       "tokenizer.json:   0%|          | 0.00/2.11M [00:00<?, ?B/s]"
      ]
     },
     "metadata": {},
     "output_type": "display_data"
    },
    {
     "data": {
      "application/vnd.jupyter.widget-view+json": {
       "model_id": "6548439ea1764a7db23ed67417ec17df",
       "version_major": 2,
       "version_minor": 0
      },
      "text/plain": [
       "special_tokens_map.json:   0%|          | 0.00/280 [00:00<?, ?B/s]"
      ]
     },
     "metadata": {},
     "output_type": "display_data"
    },
    {
     "data": {
      "application/vnd.jupyter.widget-view+json": {
       "model_id": "854d727e837b44aea9bfbd2319999692",
       "version_major": 2,
       "version_minor": 0
      },
      "text/plain": [
       "config.json:   0%|          | 0.00/943 [00:00<?, ?B/s]"
      ]
     },
     "metadata": {},
     "output_type": "display_data"
    },
    {
     "data": {
      "application/vnd.jupyter.widget-view+json": {
       "model_id": "03bb5ce9be90416db63066c565772202",
       "version_major": 2,
       "version_minor": 0
      },
      "text/plain": [
       "pytorch_model.bin:   0%|          | 0.00/329M [00:00<?, ?B/s]"
      ]
     },
     "metadata": {},
     "output_type": "display_data"
    }
   ],
   "source": [
    "pipe_env=get_model(\"ESGBERT/EnvironmentalBERT-environmental\" ,\"text-classification\")\n",
    "pipe_soc=get_model(\"ESGBERT/SocialBERT-social\" ,\"text-classification\")\n",
    "pipe_gov=get_model(\"ESGBERT/GovernanceBERT-governance\",\"text-classification\")"
   ]
  },
  {
   "cell_type": "code",
   "execution_count": 9,
   "metadata": {},
   "outputs": [],
   "source": [
    "def classify_sentence_label(text,pipe_env,pipe_soc,pipe_gov,pipe_esg):\n",
    "    \"\"\"function to classify sentence labes as E,S,G\"\"\"\n",
    "    label=None\n",
    "    score_class=None\n",
    "    print({\"tesxttt\":text})\n",
    "    if text is not None and pipe_env is not None and pipe_soc is not None and pipe_gov is not None and pipe_esg is not None:\n",
    "        text = pipe_esg(text, padding=True, truncation=True)[0]['label']\n",
    "        if text is not None:\n",
    "            env = pipe_env(text, padding=True, truncation=True)\n",
    "            if env[0]['label']!='none':\n",
    "                label=env[0]['label']\n",
    "                score_class=env[0]['score']\n",
    "            else:\n",
    "                social=pipe_soc(text, padding=True, truncation=True)\n",
    "                if social[0]['label']!='none':\n",
    "                    label=social[0]['label']\n",
    "                    score_class=social[0]['score']\n",
    "                    \n",
    "                else:\n",
    "                    gov=pipe_gov(text, padding=True, truncation=True)\n",
    "                    if gov[0]['label']!='none':\n",
    "                        label=gov[0]['label']\n",
    "                        score_class=gov[0]['score']\n",
    "    return label,score_class"
   ]
  },
  {
   "cell_type": "code",
   "execution_count": 16,
   "metadata": {},
   "outputs": [
    {
     "data": {
      "text/plain": [
       "['Integrated Management System Audit',\n",
       " 'ECOVADIS Evaluation',\n",
       " 'Ethics and Responsible Purchasing',\n",
       " 'Employee Policy and Ethics',\n",
       " 'Ethical Committee and Anti-Corruption Policy',\n",
       " 'Work Conditions and Ethics',\n",
       " 'Employee Demographics',\n",
       " 'Employee Departures',\n",
       " 'Remuneration Policy',\n",
       " 'Work Time Organization',\n",
       " 'Health and Safety at Work',\n",
       " 'Professional Training and Development',\n",
       " 'Union Freedom and Collective Negotiation',\n",
       " 'Employee Living Environment']"
      ]
     },
     "execution_count": 16,
     "metadata": {},
     "output_type": "execute_result"
    }
   ],
   "source": [
    "first_column = df.iloc[:, 0].to_list()\n",
    "first_column"
   ]
  },
  {
   "cell_type": "code",
   "execution_count": 10,
   "metadata": {},
   "outputs": [
    {
     "name": "stdout",
     "output_type": "stream",
     "text": [
      "{'tesxttt': 'Category'}\n",
      "{'x': 'Category', 'label': 'social', 'score_class': 0.9994382262229919}\n",
      "{'tesxttt': 'Description'}\n",
      "{'x': 'Description', 'label': None, 'score_class': None}\n",
      "{'tesxttt': '2022 Achievements'}\n",
      "{'x': '2022 Achievements', 'label': None, 'score_class': None}\n"
     ]
    }
   ],
   "source": [
    "for x in df.columns:\n",
    "    # a=pipe_esg(x)\n",
    "    label,score_class=classify_sentence_label(x,pipe_env,pipe_soc,pipe_gov,pipe_esg)\n",
    "    print({\"x\":x,\"label\":label,\"score_class\":score_class})\n",
    "    "
   ]
  },
  {
   "cell_type": "code",
   "execution_count": 17,
   "metadata": {},
   "outputs": [
    {
     "name": "stdout",
     "output_type": "stream",
     "text": [
      "{'tesxttt': 'Integrated Management System Audit'}\n",
      "{'x': 'Integrated Management System Audit', 'label': 'social', 'score_class': 0.9993880987167358}\n",
      "{'tesxttt': 'ECOVADIS Evaluation'}\n",
      "{'x': 'ECOVADIS Evaluation', 'label': 'social', 'score_class': 0.9994382262229919}\n",
      "{'tesxttt': 'Ethics and Responsible Purchasing'}\n",
      "{'x': 'Ethics and Responsible Purchasing', 'label': 'social', 'score_class': 0.9993880987167358}\n",
      "{'tesxttt': 'Employee Policy and Ethics'}\n",
      "{'x': 'Employee Policy and Ethics', 'label': 'social', 'score_class': 0.9993880987167358}\n",
      "{'tesxttt': 'Ethical Committee and Anti-Corruption Policy'}\n",
      "{'x': 'Ethical Committee and Anti-Corruption Policy', 'label': 'social', 'score_class': 0.9993880987167358}\n",
      "{'tesxttt': 'Work Conditions and Ethics'}\n",
      "{'x': 'Work Conditions and Ethics', 'label': 'social', 'score_class': 0.9993880987167358}\n",
      "{'tesxttt': 'Employee Demographics'}\n",
      "{'x': 'Employee Demographics', 'label': 'social', 'score_class': 0.9998181462287903}\n",
      "{'tesxttt': 'Employee Departures'}\n",
      "{'x': 'Employee Departures', 'label': 'social', 'score_class': 0.9984028935432434}\n",
      "{'tesxttt': 'Remuneration Policy'}\n",
      "{'x': 'Remuneration Policy', 'label': 'social', 'score_class': 0.9984028935432434}\n",
      "{'tesxttt': 'Work Time Organization'}\n",
      "{'x': 'Work Time Organization', 'label': 'social', 'score_class': 0.9984028935432434}\n",
      "{'tesxttt': 'Health and Safety at Work'}\n",
      "{'x': 'Health and Safety at Work', 'label': 'social', 'score_class': 0.9997071623802185}\n",
      "{'tesxttt': 'Professional Training and Development'}\n",
      "{'x': 'Professional Training and Development', 'label': 'social', 'score_class': 0.9998181462287903}\n",
      "{'tesxttt': 'Union Freedom and Collective Negotiation'}\n",
      "{'x': 'Union Freedom and Collective Negotiation', 'label': 'social', 'score_class': 0.9984028935432434}\n",
      "{'tesxttt': 'Employee Living Environment'}\n",
      "{'x': 'Employee Living Environment', 'label': 'social', 'score_class': 0.9997071623802185}\n"
     ]
    }
   ],
   "source": [
    "for x in first_column:\n",
    "    # a=pipe_esg(x)\n",
    "    label,score_class=classify_sentence_label(x,pipe_env,pipe_soc,pipe_gov,pipe_esg)\n",
    "    print({\"x\":x,\"label\":label,\"score_class\":score_class})"
   ]
  }
 ],
 "metadata": {
  "kernelspec": {
   "display_name": "Python 3",
   "language": "python",
   "name": "python3"
  },
  "language_info": {
   "codemirror_mode": {
    "name": "ipython",
    "version": 3
   },
   "file_extension": ".py",
   "mimetype": "text/x-python",
   "name": "python",
   "nbconvert_exporter": "python",
   "pygments_lexer": "ipython3",
   "version": "3.10.9"
  }
 },
 "nbformat": 4,
 "nbformat_minor": 2
}
